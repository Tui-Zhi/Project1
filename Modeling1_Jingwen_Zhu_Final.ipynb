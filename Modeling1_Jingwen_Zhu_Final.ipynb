{
 "cells": [
  {
   "cell_type": "markdown",
   "id": "4eed5e81",
   "metadata": {},
   "source": [
    "\n",
    "### Name: Jingwen Zhu"
   ]
  },
  {
   "cell_type": "code",
   "execution_count": 1,
   "id": "3e8a9966",
   "metadata": {},
   "outputs": [],
   "source": [
    "import pandas as pd\n",
    "import numpy as np\n",
    "import matplotlib.pyplot as plt\n",
    "import math\n",
    "import random\n",
    "from scipy.stats import norm\n",
    "import seaborn as sns\n",
    "import statsmodels.api as sm\n",
    "from statsmodels.formula.api import ols\n",
    "from sklearn.model_selection import train_test_split\n",
    "from sklearn.metrics import accuracy_score\n",
    "from sklearn.linear_model import LogisticRegression\n",
    "from sklearn.linear_model import Lasso\n",
    "from sklearn.model_selection import train_test_split, GridSearchCV\n",
    "from sklearn.metrics import r2_score\n",
    "from sklearn.preprocessing import StandardScaler"
   ]
  },
  {
   "cell_type": "markdown",
   "id": "760f094a",
   "metadata": {},
   "source": [
    "### Section 1"
   ]
  },
  {
   "cell_type": "code",
   "execution_count": 2,
   "id": "7f4e4f4a",
   "metadata": {},
   "outputs": [
    {
     "data": {
      "text/html": [
       "<div>\n",
       "<style scoped>\n",
       "    .dataframe tbody tr th:only-of-type {\n",
       "        vertical-align: middle;\n",
       "    }\n",
       "\n",
       "    .dataframe tbody tr th {\n",
       "        vertical-align: top;\n",
       "    }\n",
       "\n",
       "    .dataframe thead th {\n",
       "        text-align: right;\n",
       "    }\n",
       "</style>\n",
       "<table border=\"1\" class=\"dataframe\">\n",
       "  <thead>\n",
       "    <tr style=\"text-align: right;\">\n",
       "      <th></th>\n",
       "      <th>Suburb</th>\n",
       "      <th>Address</th>\n",
       "      <th>Rooms</th>\n",
       "      <th>Type</th>\n",
       "      <th>Price</th>\n",
       "      <th>Method</th>\n",
       "      <th>SellerG</th>\n",
       "      <th>Date</th>\n",
       "      <th>Distance</th>\n",
       "      <th>Postcode</th>\n",
       "      <th>...</th>\n",
       "      <th>Bathroom</th>\n",
       "      <th>Car</th>\n",
       "      <th>Landsize</th>\n",
       "      <th>BuildingArea</th>\n",
       "      <th>YearBuilt</th>\n",
       "      <th>CouncilArea</th>\n",
       "      <th>Lattitude</th>\n",
       "      <th>Longtitude</th>\n",
       "      <th>Regionname</th>\n",
       "      <th>Propertycount</th>\n",
       "    </tr>\n",
       "  </thead>\n",
       "  <tbody>\n",
       "    <tr>\n",
       "      <th>0</th>\n",
       "      <td>Abbotsford</td>\n",
       "      <td>85 Turner St</td>\n",
       "      <td>2</td>\n",
       "      <td>h</td>\n",
       "      <td>1480000.0</td>\n",
       "      <td>S</td>\n",
       "      <td>Biggin</td>\n",
       "      <td>3/12/2016</td>\n",
       "      <td>2.5</td>\n",
       "      <td>3067.0</td>\n",
       "      <td>...</td>\n",
       "      <td>1.0</td>\n",
       "      <td>1.0</td>\n",
       "      <td>202.0</td>\n",
       "      <td>NaN</td>\n",
       "      <td>NaN</td>\n",
       "      <td>Yarra</td>\n",
       "      <td>-37.7996</td>\n",
       "      <td>144.9984</td>\n",
       "      <td>Northern Metropolitan</td>\n",
       "      <td>4019.0</td>\n",
       "    </tr>\n",
       "    <tr>\n",
       "      <th>1</th>\n",
       "      <td>Abbotsford</td>\n",
       "      <td>25 Bloomburg St</td>\n",
       "      <td>2</td>\n",
       "      <td>h</td>\n",
       "      <td>1035000.0</td>\n",
       "      <td>S</td>\n",
       "      <td>Biggin</td>\n",
       "      <td>4/02/2016</td>\n",
       "      <td>2.5</td>\n",
       "      <td>3067.0</td>\n",
       "      <td>...</td>\n",
       "      <td>1.0</td>\n",
       "      <td>0.0</td>\n",
       "      <td>156.0</td>\n",
       "      <td>79.0</td>\n",
       "      <td>1900.0</td>\n",
       "      <td>Yarra</td>\n",
       "      <td>-37.8079</td>\n",
       "      <td>144.9934</td>\n",
       "      <td>Northern Metropolitan</td>\n",
       "      <td>4019.0</td>\n",
       "    </tr>\n",
       "    <tr>\n",
       "      <th>2</th>\n",
       "      <td>Abbotsford</td>\n",
       "      <td>5 Charles St</td>\n",
       "      <td>3</td>\n",
       "      <td>h</td>\n",
       "      <td>1465000.0</td>\n",
       "      <td>SP</td>\n",
       "      <td>Biggin</td>\n",
       "      <td>4/03/2017</td>\n",
       "      <td>2.5</td>\n",
       "      <td>3067.0</td>\n",
       "      <td>...</td>\n",
       "      <td>2.0</td>\n",
       "      <td>0.0</td>\n",
       "      <td>134.0</td>\n",
       "      <td>150.0</td>\n",
       "      <td>1900.0</td>\n",
       "      <td>Yarra</td>\n",
       "      <td>-37.8093</td>\n",
       "      <td>144.9944</td>\n",
       "      <td>Northern Metropolitan</td>\n",
       "      <td>4019.0</td>\n",
       "    </tr>\n",
       "    <tr>\n",
       "      <th>3</th>\n",
       "      <td>Abbotsford</td>\n",
       "      <td>40 Federation La</td>\n",
       "      <td>3</td>\n",
       "      <td>h</td>\n",
       "      <td>850000.0</td>\n",
       "      <td>PI</td>\n",
       "      <td>Biggin</td>\n",
       "      <td>4/03/2017</td>\n",
       "      <td>2.5</td>\n",
       "      <td>3067.0</td>\n",
       "      <td>...</td>\n",
       "      <td>2.0</td>\n",
       "      <td>1.0</td>\n",
       "      <td>94.0</td>\n",
       "      <td>NaN</td>\n",
       "      <td>NaN</td>\n",
       "      <td>Yarra</td>\n",
       "      <td>-37.7969</td>\n",
       "      <td>144.9969</td>\n",
       "      <td>Northern Metropolitan</td>\n",
       "      <td>4019.0</td>\n",
       "    </tr>\n",
       "    <tr>\n",
       "      <th>4</th>\n",
       "      <td>Abbotsford</td>\n",
       "      <td>55a Park St</td>\n",
       "      <td>4</td>\n",
       "      <td>h</td>\n",
       "      <td>1600000.0</td>\n",
       "      <td>VB</td>\n",
       "      <td>Nelson</td>\n",
       "      <td>4/06/2016</td>\n",
       "      <td>2.5</td>\n",
       "      <td>3067.0</td>\n",
       "      <td>...</td>\n",
       "      <td>1.0</td>\n",
       "      <td>2.0</td>\n",
       "      <td>120.0</td>\n",
       "      <td>142.0</td>\n",
       "      <td>2014.0</td>\n",
       "      <td>Yarra</td>\n",
       "      <td>-37.8072</td>\n",
       "      <td>144.9941</td>\n",
       "      <td>Northern Metropolitan</td>\n",
       "      <td>4019.0</td>\n",
       "    </tr>\n",
       "  </tbody>\n",
       "</table>\n",
       "<p>5 rows × 21 columns</p>\n",
       "</div>"
      ],
      "text/plain": [
       "       Suburb           Address  Rooms Type      Price Method SellerG  \\\n",
       "0  Abbotsford      85 Turner St      2    h  1480000.0      S  Biggin   \n",
       "1  Abbotsford   25 Bloomburg St      2    h  1035000.0      S  Biggin   \n",
       "2  Abbotsford      5 Charles St      3    h  1465000.0     SP  Biggin   \n",
       "3  Abbotsford  40 Federation La      3    h   850000.0     PI  Biggin   \n",
       "4  Abbotsford       55a Park St      4    h  1600000.0     VB  Nelson   \n",
       "\n",
       "        Date  Distance  Postcode  ...  Bathroom  Car  Landsize  BuildingArea  \\\n",
       "0  3/12/2016       2.5    3067.0  ...       1.0  1.0     202.0           NaN   \n",
       "1  4/02/2016       2.5    3067.0  ...       1.0  0.0     156.0          79.0   \n",
       "2  4/03/2017       2.5    3067.0  ...       2.0  0.0     134.0         150.0   \n",
       "3  4/03/2017       2.5    3067.0  ...       2.0  1.0      94.0           NaN   \n",
       "4  4/06/2016       2.5    3067.0  ...       1.0  2.0     120.0         142.0   \n",
       "\n",
       "   YearBuilt  CouncilArea Lattitude  Longtitude             Regionname  \\\n",
       "0        NaN        Yarra  -37.7996    144.9984  Northern Metropolitan   \n",
       "1     1900.0        Yarra  -37.8079    144.9934  Northern Metropolitan   \n",
       "2     1900.0        Yarra  -37.8093    144.9944  Northern Metropolitan   \n",
       "3        NaN        Yarra  -37.7969    144.9969  Northern Metropolitan   \n",
       "4     2014.0        Yarra  -37.8072    144.9941  Northern Metropolitan   \n",
       "\n",
       "  Propertycount  \n",
       "0        4019.0  \n",
       "1        4019.0  \n",
       "2        4019.0  \n",
       "3        4019.0  \n",
       "4        4019.0  \n",
       "\n",
       "[5 rows x 21 columns]"
      ]
     },
     "execution_count": 2,
     "metadata": {},
     "output_type": "execute_result"
    }
   ],
   "source": [
    "from sklearn.model_selection import train_test_split\n",
    "df = pd.read_csv('C:\\\\Users\\\\17855\\\\OneDrive\\\\Desktop\\\\Modeling\\\\melb_data.csv')\n",
    "df.head()"
   ]
  },
  {
   "cell_type": "markdown",
   "id": "fde96aea",
   "metadata": {},
   "source": [
    "#### a) Print the number of missing values for each variable. "
   ]
  },
  {
   "cell_type": "code",
   "execution_count": 3,
   "id": "c9d70bd5",
   "metadata": {},
   "outputs": [
    {
     "name": "stdout",
     "output_type": "stream",
     "text": [
      "Suburb              0\n",
      "Address             0\n",
      "Rooms               0\n",
      "Type                0\n",
      "Price               0\n",
      "Method              0\n",
      "SellerG             0\n",
      "Date                0\n",
      "Distance            0\n",
      "Postcode            0\n",
      "Bedroom2            0\n",
      "Bathroom            0\n",
      "Car                62\n",
      "Landsize            0\n",
      "BuildingArea     6450\n",
      "YearBuilt        5375\n",
      "CouncilArea      1369\n",
      "Lattitude           0\n",
      "Longtitude          0\n",
      "Regionname          0\n",
      "Propertycount       0\n",
      "dtype: int64\n"
     ]
    }
   ],
   "source": [
    "missing_values = df.isnull().sum()\n",
    "print(missing_values)"
   ]
  },
  {
   "cell_type": "markdown",
   "id": "8b531c6d",
   "metadata": {},
   "source": [
    "#### Ans:\n",
    "Missing values can be problematic for any column when using them in a model, but it depends. It should analyze the importance of each feature for your specific use case, and decide whether to impute, drop, or perform some other operation on the missing values. In this dataset, we can find out there are many missing values in Building Area, Year Built and Concil Area. Missing values in these columns can be problematic because they provide important information about the property."
   ]
  },
  {
   "cell_type": "markdown",
   "id": "086f073c",
   "metadata": {},
   "source": [
    "#### b) Create a bar chart that shows the median housing price for each regionname. "
   ]
  },
  {
   "cell_type": "code",
   "execution_count": 4,
   "id": "152d14cd",
   "metadata": {},
   "outputs": [
    {
     "data": {
      "image/png": "[encoded data removed]",
      "text/plain": [
       "<Figure size 640x480 with 1 Axes>"
      ]
     },
     "metadata": {},
     "output_type": "display_data"
    }
   ],
   "source": [
    "median_prices = df.groupby('Regionname')['Price'].median()\n",
    "median_prices.plot(kind='bar', color='blue', edgecolor='black')\n",
    "plt.title('Median Housing Price for Each Regionname')\n",
    "plt.xlabel('Regionname')\n",
    "plt.ylabel('Median Price')\n",
    "plt.xticks(rotation=50, ha='right')\n",
    "plt.show()"
   ]
  },
  {
   "cell_type": "markdown",
   "id": "81a36b45",
   "metadata": {},
   "source": [
    "#### Ans\n",
    "Yes, I think the region name will affect housing price. From the bar chart, the median housing price in Victoria is lower than Metropolitan. The demand for housing in certain regions might be higher than in others, which can lead to higher prices. Likewise, if the supply of available properties is limited in a particular region, this can also drive up prices. Areas with lower crime rates and a higher perception of safety can command higher housing prices."
   ]
  },
  {
   "cell_type": "markdown",
   "id": "36f0c534",
   "metadata": {},
   "source": [
    "#### c) Use seaborn's lmplot function to create a scatter plot with latitude on the x-axis and longitude on the y-axis, and colored by distance. What does this plot suggest?"
   ]
  },
  {
   "cell_type": "code",
   "execution_count": 5,
   "id": "96b4a502",
   "metadata": {},
   "outputs": [
    {
     "data": {
      "text/plain": [
       "<Figure size 1000x600 with 0 Axes>"
      ]
     },
     "metadata": {},
     "output_type": "display_data"
    },
    {
     "data": {
      "image/png": "[encoded data removed]",
      "text/plain": [
       "<Figure size 500x500 with 1 Axes>"
      ]
     },
     "metadata": {},
     "output_type": "display_data"
    }
   ],
   "source": [
    "plt.figure(figsize=(10, 6))\n",
    "sns.lmplot(x='Lattitude', y='Longtitude', data=df, hue='Distance', palette='rocket', legend=False, fit_reg=False)\n",
    "plt.xlabel('Latitude')\n",
    "plt.ylabel('Longitude')\n",
    "plt.title('Scatter Plot of Latitude vs Longitude Colored by Distance')\n",
    "plt.show()"
   ]
  },
  {
   "cell_type": "markdown",
   "id": "7be088cd",
   "metadata": {},
   "source": [
    "#### Ans:\n",
    "In this scatter plot graph, we can find around Lattitude -37.8 and Longtitude 144.9 will have more houses. And from this center, the dots start dispersion. This area might be the most densely populated area."
   ]
  },
  {
   "cell_type": "markdown",
   "id": "0caffb00",
   "metadata": {},
   "source": [
    "### Section 2"
   ]
  },
  {
   "cell_type": "markdown",
   "id": "c28ef366",
   "metadata": {},
   "source": [
    "#### a) What are the null and alternative hypotheses?\n",
    "\n",
    "#### Ans:\n",
    "Null Hypothesis (H0): The housing prices in the selected region do not differ from the population mean.\n",
    "\n",
    "Alternative hypothesis (Ha): The housing prices in the selected region differ from the population mean. "
   ]
  },
  {
   "cell_type": "markdown",
   "id": "2282cc4f",
   "metadata": {},
   "source": [
    "#### b) Use the p-value to decide whether to reject or to not reject the null hypothesis. Explain your reasoning."
   ]
  },
  {
   "cell_type": "code",
   "execution_count": 6,
   "id": "aa463d45",
   "metadata": {},
   "outputs": [
    {
     "name": "stdout",
     "output_type": "stream",
     "text": [
      "P value is: 0.00015849013783530985 Reject the null hypothesis. The housing prices in the selected region are significantly different from the population mean.\n"
     ]
    }
   ],
   "source": [
    "population_mean = df['Price'].mean()\n",
    "\n",
    "selected_region = 'Western Metropolitan'\n",
    "sample = df[df['Regionname'] == selected_region].sample(n=25, random_state=42)\n",
    "\n",
    "sample_mean = sample['Price'].mean()\n",
    "sample_std = sample['Price'].std()\n",
    "standard_error = sample_std / np.sqrt(25)\n",
    "z_score = (sample_mean - population_mean) / standard_error\n",
    "p_value = 2 * (1 - norm.cdf(abs(z_score)))\n",
    "\n",
    "if p_value < 0.05:\n",
    "    print(\"P value is:\", p_value,\"Reject the null hypothesis. The housing prices in the selected region are significantly different from the population mean.\")\n",
    "else:\n",
    "    print(\"P value is:\", p_value,\"Fail to reject the null hypothesis. There's no significant evidence that the housing prices in the selected region differ from the population mean.\")"
   ]
  },
  {
   "cell_type": "code",
   "execution_count": 7,
   "id": "e2f1b030",
   "metadata": {},
   "outputs": [
    {
     "name": "stdout",
     "output_type": "stream",
     "text": [
      "P value is: 0.811846282303365 . Fail to reject the null hypothesis. There's no significant evidence that the housing prices in the selected region differ from the population mean.\n"
     ]
    }
   ],
   "source": [
    "population_mean = df['Price'].mean()\n",
    "\n",
    "selected_region = 'Southern Metropolitan'\n",
    "sample = df[df['Regionname'] == selected_region].sample(n=25, random_state=42)\n",
    "\n",
    "sample_mean = sample['Price'].mean()\n",
    "sample_std = sample['Price'].std()\n",
    "standard_error = sample_std / np.sqrt(25)\n",
    "z_score = (sample_mean - population_mean) / standard_error\n",
    "p_value = 2 * (1 - norm.cdf(abs(z_score)))\n",
    "\n",
    "if p_value < 0.05:\n",
    "    print(\"P value is:\", p_value,\". Reject the null hypothesis. The housing prices in the selected region are significantly different from the population mean.\")\n",
    "else:\n",
    "    print(\"P value is:\", p_value,\". Fail to reject the null hypothesis. There's no significant evidence that the housing prices in the selected region differ from the population mean.\")"
   ]
  },
  {
   "cell_type": "markdown",
   "id": "c0ec680b",
   "metadata": {},
   "source": [
    "#### Ans:\n",
    "When I choose the regionname Western Metropolitan, the P value is 0.000158 which is less than 0.05. It will reject the null. The housing prices in the Northern Metropolitan region are significantly different from the population mean in Melbourne. The difference is not likely due to random chance and suggests a real difference in housing prices between this region and the overall Melbourne market.\n",
    "\n",
    "When I choose Southern Metropolitan, the P value is 0.8118 which is larger than the level of significance. It fail to reject the null hypothesis. There is no significant evidence that the housing prices in the Southern Metropolitan region differ from the population mean in Melbourne. The difference observed between the sample mean and population mean might be due to random chance, and we cannot confidently conclude that there's a real difference in housing prices between this region and the overall Melbourne market."
   ]
  },
  {
   "cell_type": "markdown",
   "id": "f5355093",
   "metadata": {},
   "source": [
    "### Section 3"
   ]
  },
  {
   "cell_type": "markdown",
   "id": "616a351c",
   "metadata": {},
   "source": [
    "#### a) Scatterplot of the two variables.\n",
    "I assume Rooms and Bathroom have high correlation coefficient."
   ]
  },
  {
   "cell_type": "code",
   "execution_count": 8,
   "id": "e54a8fb9",
   "metadata": {},
   "outputs": [
    {
     "data": {
      "image/png": "[encoded data removed]",
      "text/plain": [
       "<Figure size 640x480 with 1 Axes>"
      ]
     },
     "metadata": {},
     "output_type": "display_data"
    }
   ],
   "source": [
    "plt.scatter(df['Rooms'], df['Bathroom'])\n",
    "plt.xlabel('Rooms')\n",
    "plt.ylabel('Bathroom')\n",
    "plt.title('Scatterplot of Rooms vs. Bathroom')\n",
    "plt.show()"
   ]
  },
  {
   "cell_type": "markdown",
   "id": "115df190",
   "metadata": {},
   "source": [
    "#### b) Pearson correlation coeffcient between the two variables."
   ]
  },
  {
   "cell_type": "code",
   "execution_count": 9,
   "id": "90e2b683",
   "metadata": {},
   "outputs": [
    {
     "name": "stdout",
     "output_type": "stream",
     "text": [
      "Pearson correlation coefficient: 0.5929340810557577\n"
     ]
    }
   ],
   "source": [
    "correlation_coefficient = df['Rooms'].corr(df['Bathroom'])\n",
    "print(f\"Pearson correlation coefficient: {correlation_coefficient}\")"
   ]
  },
  {
   "cell_type": "markdown",
   "id": "54b6b1cd",
   "metadata": {},
   "source": [
    "#### c) Scatterplot of the fitted values against the residuals (with respect to a line of least squares fit)."
   ]
  },
  {
   "cell_type": "code",
   "execution_count": 10,
   "id": "5e5e696c",
   "metadata": {},
   "outputs": [
    {
     "data": {
      "image/png": "[encoded data removed]",
      "text/plain": [
       "<Figure size 640x480 with 1 Axes>"
      ]
     },
     "metadata": {},
     "output_type": "display_data"
    }
   ],
   "source": [
    "sns.regplot(x='Rooms', y='Bathroom', data=df, scatter_kws={'alpha': 0.3})\n",
    "plt.xlabel('Rooms')\n",
    "plt.ylabel('Bathroom')\n",
    "plt.title('Rooms vs. Bathroom with Regression Line')\n",
    "plt.show()"
   ]
  },
  {
   "cell_type": "markdown",
   "id": "5549b691",
   "metadata": {},
   "source": [
    "### Section 4"
   ]
  },
  {
   "cell_type": "markdown",
   "id": "16b82f60",
   "metadata": {},
   "source": [
    "#### a) Pick three variables that might be linearly correlated with Price"
   ]
  },
  {
   "cell_type": "code",
   "execution_count": 11,
   "id": "3b78e9d4",
   "metadata": {},
   "outputs": [
    {
     "name": "stdout",
     "output_type": "stream",
     "text": [
      "             Rooms  Bathroom  Distance\n",
      "Rooms     1.000000  0.592934  0.294203\n",
      "Bathroom  0.592934  1.000000  0.127155\n",
      "Distance  0.294203  0.127155  1.000000\n"
     ]
    }
   ],
   "source": [
    "independent_variables = df[['Rooms', 'Bathroom', 'Distance']]\n",
    "print(independent_variables.corr())"
   ]
  },
  {
   "cell_type": "markdown",
   "id": "5f1980dd",
   "metadata": {},
   "source": [
    "#### Ans:\n",
    "I choose Rooms, Bathroom, Distance as my variabless. None of these variables have Pearson correlation coefficients greater than 0.75 they do not have multicollinearity."
   ]
  },
  {
   "cell_type": "markdown",
   "id": "a76c5c74",
   "metadata": {},
   "source": [
    "#### b) Build the ordinary least squares regression model. Report and interpret the R2."
   ]
  },
  {
   "cell_type": "code",
   "execution_count": 12,
   "id": "f8c4ecbe",
   "metadata": {},
   "outputs": [
    {
     "name": "stdout",
     "output_type": "stream",
     "text": [
      "                            OLS Regression Results                            \n",
      "==============================================================================\n",
      "Dep. Variable:                  Price   R-squared:                       0.389\n",
      "Model:                            OLS   Adj. R-squared:                  0.389\n",
      "Method:                 Least Squares   F-statistic:                     2880.\n",
      "Date:                Fri, 24 Mar 2023   Prob (F-statistic):               0.00\n",
      "Time:                        06:42:44   Log-Likelihood:            -1.9746e+05\n",
      "No. Observations:               13580   AIC:                         3.949e+05\n",
      "Df Residuals:                   13576   BIC:                         3.950e+05\n",
      "Df Model:                           3                                         \n",
      "Covariance Type:            nonrobust                                         \n",
      "==============================================================================\n",
      "                 coef    std err          t      P>|t|      [0.025      0.975]\n",
      "------------------------------------------------------------------------------\n",
      "const       2.096e+05   1.45e+04     14.416      0.000    1.81e+05    2.38e+05\n",
      "Rooms       3.001e+05   5795.008     51.783      0.000    2.89e+05    3.11e+05\n",
      "Bathroom     2.24e+05   7715.304     29.039      0.000    2.09e+05    2.39e+05\n",
      "Distance   -3.544e+04    766.169    -46.256      0.000   -3.69e+04   -3.39e+04\n",
      "==============================================================================\n",
      "Omnibus:                     7216.861   Durbin-Watson:                   1.470\n",
      "Prob(Omnibus):                  0.000   Jarque-Bera (JB):           131073.880\n",
      "Skew:                           2.145   Prob(JB):                         0.00\n",
      "Kurtosis:                      17.603   Cond. No.                         42.3\n",
      "==============================================================================\n",
      "\n",
      "Notes:\n",
      "[1] Standard Errors assume that the covariance matrix of the errors is correctly specified.\n"
     ]
    }
   ],
   "source": [
    "X = df[['Rooms', 'Bathroom', 'Distance']]\n",
    "y = df['Price']\n",
    "\n",
    "X = sm.add_constant(X)\n",
    "\n",
    "model = sm.OLS(y, X).fit()\n",
    "print(model.summary())"
   ]
  },
  {
   "cell_type": "markdown",
   "id": "54deb03b",
   "metadata": {},
   "source": [
    "#### Ans:\n",
    "The R^2 is 0.389 which is between 0-1. 38.9% of the variation in housing prices can be attributed to the variation in the number of rooms, bathrooms, and distance from CBD. The remaining 61.1% of the variance in housing prices is not explained by these three variables in the model."
   ]
  },
  {
   "cell_type": "markdown",
   "id": "8ba1c654",
   "metadata": {},
   "source": [
    "### Section 5"
   ]
  },
  {
   "cell_type": "markdown",
   "id": "e0e5c2a3",
   "metadata": {},
   "source": [
    "#### a) Create a validation data set using ten percent of the data. (Retain the rest of the data for training purposes.)"
   ]
  },
  {
   "cell_type": "code",
   "execution_count": 13,
   "id": "d2052737",
   "metadata": {},
   "outputs": [
    {
     "data": {
      "text/html": [
       "<div>\n",
       "<style scoped>\n",
       "    .dataframe tbody tr th:only-of-type {\n",
       "        vertical-align: middle;\n",
       "    }\n",
       "\n",
       "    .dataframe tbody tr th {\n",
       "        vertical-align: top;\n",
       "    }\n",
       "\n",
       "    .dataframe thead th {\n",
       "        text-align: right;\n",
       "    }\n",
       "</style>\n",
       "<table border=\"1\" class=\"dataframe\">\n",
       "  <thead>\n",
       "    <tr style=\"text-align: right;\">\n",
       "      <th></th>\n",
       "      <th>Suburb</th>\n",
       "      <th>Address</th>\n",
       "      <th>Rooms</th>\n",
       "      <th>Type</th>\n",
       "      <th>Price</th>\n",
       "      <th>Method</th>\n",
       "      <th>SellerG</th>\n",
       "      <th>Date</th>\n",
       "      <th>Distance</th>\n",
       "      <th>Postcode</th>\n",
       "      <th>...</th>\n",
       "      <th>Bathroom</th>\n",
       "      <th>Car</th>\n",
       "      <th>Landsize</th>\n",
       "      <th>BuildingArea</th>\n",
       "      <th>YearBuilt</th>\n",
       "      <th>CouncilArea</th>\n",
       "      <th>Lattitude</th>\n",
       "      <th>Longtitude</th>\n",
       "      <th>Regionname</th>\n",
       "      <th>Propertycount</th>\n",
       "    </tr>\n",
       "  </thead>\n",
       "  <tbody>\n",
       "    <tr>\n",
       "      <th>12145</th>\n",
       "      <td>Ringwood North</td>\n",
       "      <td>81 Kubis Dr</td>\n",
       "      <td>4</td>\n",
       "      <td>h</td>\n",
       "      <td>1005000.0</td>\n",
       "      <td>S</td>\n",
       "      <td>Jellis</td>\n",
       "      <td>29/07/2017</td>\n",
       "      <td>19.9</td>\n",
       "      <td>3134.0</td>\n",
       "      <td>...</td>\n",
       "      <td>2.0</td>\n",
       "      <td>2.0</td>\n",
       "      <td>785.0</td>\n",
       "      <td>NaN</td>\n",
       "      <td>NaN</td>\n",
       "      <td>Maroondah</td>\n",
       "      <td>-37.79465</td>\n",
       "      <td>145.22440</td>\n",
       "      <td>Eastern Metropolitan</td>\n",
       "      <td>3619.0</td>\n",
       "    </tr>\n",
       "    <tr>\n",
       "      <th>5646</th>\n",
       "      <td>South Yarra</td>\n",
       "      <td>16/384 Toorak Rd</td>\n",
       "      <td>2</td>\n",
       "      <td>u</td>\n",
       "      <td>550000.0</td>\n",
       "      <td>S</td>\n",
       "      <td>hockingstuart</td>\n",
       "      <td>14/05/2016</td>\n",
       "      <td>3.3</td>\n",
       "      <td>3141.0</td>\n",
       "      <td>...</td>\n",
       "      <td>1.0</td>\n",
       "      <td>1.0</td>\n",
       "      <td>0.0</td>\n",
       "      <td>NaN</td>\n",
       "      <td>NaN</td>\n",
       "      <td>Stonnington</td>\n",
       "      <td>-37.84060</td>\n",
       "      <td>145.00350</td>\n",
       "      <td>Southern Metropolitan</td>\n",
       "      <td>14887.0</td>\n",
       "    </tr>\n",
       "    <tr>\n",
       "      <th>11228</th>\n",
       "      <td>Templestowe Lower</td>\n",
       "      <td>38 Caroline Dr</td>\n",
       "      <td>3</td>\n",
       "      <td>h</td>\n",
       "      <td>1350000.0</td>\n",
       "      <td>S</td>\n",
       "      <td>Jellis</td>\n",
       "      <td>12/08/2017</td>\n",
       "      <td>12.4</td>\n",
       "      <td>3107.0</td>\n",
       "      <td>...</td>\n",
       "      <td>2.0</td>\n",
       "      <td>3.0</td>\n",
       "      <td>725.0</td>\n",
       "      <td>NaN</td>\n",
       "      <td>NaN</td>\n",
       "      <td>Manningham</td>\n",
       "      <td>-37.76616</td>\n",
       "      <td>145.11207</td>\n",
       "      <td>Eastern Metropolitan</td>\n",
       "      <td>5420.0</td>\n",
       "    </tr>\n",
       "    <tr>\n",
       "      <th>8317</th>\n",
       "      <td>Reservoir</td>\n",
       "      <td>6 Joffre St</td>\n",
       "      <td>2</td>\n",
       "      <td>h</td>\n",
       "      <td>1025000.0</td>\n",
       "      <td>S</td>\n",
       "      <td>Barry</td>\n",
       "      <td>29/04/2017</td>\n",
       "      <td>11.2</td>\n",
       "      <td>3073.0</td>\n",
       "      <td>...</td>\n",
       "      <td>2.0</td>\n",
       "      <td>1.0</td>\n",
       "      <td>715.0</td>\n",
       "      <td>NaN</td>\n",
       "      <td>NaN</td>\n",
       "      <td>Darebin</td>\n",
       "      <td>-37.73020</td>\n",
       "      <td>145.01290</td>\n",
       "      <td>Northern Metropolitan</td>\n",
       "      <td>21650.0</td>\n",
       "    </tr>\n",
       "    <tr>\n",
       "      <th>3855</th>\n",
       "      <td>Malvern East</td>\n",
       "      <td>6/5 Peak St</td>\n",
       "      <td>2</td>\n",
       "      <td>u</td>\n",
       "      <td>370000.0</td>\n",
       "      <td>VB</td>\n",
       "      <td>hockingstuart</td>\n",
       "      <td>14/05/2016</td>\n",
       "      <td>11.2</td>\n",
       "      <td>3145.0</td>\n",
       "      <td>...</td>\n",
       "      <td>1.0</td>\n",
       "      <td>1.0</td>\n",
       "      <td>0.0</td>\n",
       "      <td>NaN</td>\n",
       "      <td>1965.0</td>\n",
       "      <td>Stonnington</td>\n",
       "      <td>-37.88010</td>\n",
       "      <td>145.08740</td>\n",
       "      <td>Southern Metropolitan</td>\n",
       "      <td>8801.0</td>\n",
       "    </tr>\n",
       "  </tbody>\n",
       "</table>\n",
       "<p>5 rows × 21 columns</p>\n",
       "</div>"
      ],
      "text/plain": [
       "                  Suburb           Address  Rooms Type      Price Method  \\\n",
       "12145     Ringwood North       81 Kubis Dr      4    h  1005000.0      S   \n",
       "5646         South Yarra  16/384 Toorak Rd      2    u   550000.0      S   \n",
       "11228  Templestowe Lower    38 Caroline Dr      3    h  1350000.0      S   \n",
       "8317           Reservoir       6 Joffre St      2    h  1025000.0      S   \n",
       "3855        Malvern East       6/5 Peak St      2    u   370000.0     VB   \n",
       "\n",
       "             SellerG        Date  Distance  Postcode  ...  Bathroom  Car  \\\n",
       "12145         Jellis  29/07/2017      19.9    3134.0  ...       2.0  2.0   \n",
       "5646   hockingstuart  14/05/2016       3.3    3141.0  ...       1.0  1.0   \n",
       "11228         Jellis  12/08/2017      12.4    3107.0  ...       2.0  3.0   \n",
       "8317           Barry  29/04/2017      11.2    3073.0  ...       2.0  1.0   \n",
       "3855   hockingstuart  14/05/2016      11.2    3145.0  ...       1.0  1.0   \n",
       "\n",
       "       Landsize  BuildingArea  YearBuilt  CouncilArea Lattitude  Longtitude  \\\n",
       "12145     785.0           NaN        NaN    Maroondah -37.79465   145.22440   \n",
       "5646        0.0           NaN        NaN  Stonnington -37.84060   145.00350   \n",
       "11228     725.0           NaN        NaN   Manningham -37.76616   145.11207   \n",
       "8317      715.0           NaN        NaN      Darebin -37.73020   145.01290   \n",
       "3855        0.0           NaN     1965.0  Stonnington -37.88010   145.08740   \n",
       "\n",
       "                  Regionname Propertycount  \n",
       "12145   Eastern Metropolitan        3619.0  \n",
       "5646   Southern Metropolitan       14887.0  \n",
       "11228   Eastern Metropolitan        5420.0  \n",
       "8317   Northern Metropolitan       21650.0  \n",
       "3855   Southern Metropolitan        8801.0  \n",
       "\n",
       "[5 rows x 21 columns]"
      ]
     },
     "execution_count": 13,
     "metadata": {},
     "output_type": "execute_result"
    }
   ],
   "source": [
    "train_data, validation_data = train_test_split(df, test_size=0.1, random_state=42)\n",
    "train_data.head()"
   ]
  },
  {
   "cell_type": "code",
   "execution_count": 14,
   "id": "9467e0d9",
   "metadata": {},
   "outputs": [
    {
     "data": {
      "text/html": [
       "<div>\n",
       "<style scoped>\n",
       "    .dataframe tbody tr th:only-of-type {\n",
       "        vertical-align: middle;\n",
       "    }\n",
       "\n",
       "    .dataframe tbody tr th {\n",
       "        vertical-align: top;\n",
       "    }\n",
       "\n",
       "    .dataframe thead th {\n",
       "        text-align: right;\n",
       "    }\n",
       "</style>\n",
       "<table border=\"1\" class=\"dataframe\">\n",
       "  <thead>\n",
       "    <tr style=\"text-align: right;\">\n",
       "      <th></th>\n",
       "      <th>Suburb</th>\n",
       "      <th>Address</th>\n",
       "      <th>Rooms</th>\n",
       "      <th>Type</th>\n",
       "      <th>Price</th>\n",
       "      <th>Method</th>\n",
       "      <th>SellerG</th>\n",
       "      <th>Date</th>\n",
       "      <th>Distance</th>\n",
       "      <th>Postcode</th>\n",
       "      <th>...</th>\n",
       "      <th>Bathroom</th>\n",
       "      <th>Car</th>\n",
       "      <th>Landsize</th>\n",
       "      <th>BuildingArea</th>\n",
       "      <th>YearBuilt</th>\n",
       "      <th>CouncilArea</th>\n",
       "      <th>Lattitude</th>\n",
       "      <th>Longtitude</th>\n",
       "      <th>Regionname</th>\n",
       "      <th>Propertycount</th>\n",
       "    </tr>\n",
       "  </thead>\n",
       "  <tbody>\n",
       "    <tr>\n",
       "      <th>1061</th>\n",
       "      <td>Brighton</td>\n",
       "      <td>1a Mair St</td>\n",
       "      <td>3</td>\n",
       "      <td>h</td>\n",
       "      <td>2600000.0</td>\n",
       "      <td>S</td>\n",
       "      <td>Buxton</td>\n",
       "      <td>6/08/2016</td>\n",
       "      <td>11.2</td>\n",
       "      <td>3186.0</td>\n",
       "      <td>...</td>\n",
       "      <td>2.0</td>\n",
       "      <td>3.0</td>\n",
       "      <td>588.0</td>\n",
       "      <td>NaN</td>\n",
       "      <td>NaN</td>\n",
       "      <td>Bayside</td>\n",
       "      <td>-37.9287</td>\n",
       "      <td>144.9920</td>\n",
       "      <td>Southern Metropolitan</td>\n",
       "      <td>10579.0</td>\n",
       "    </tr>\n",
       "    <tr>\n",
       "      <th>6482</th>\n",
       "      <td>West Melbourne</td>\n",
       "      <td>5/467 King St</td>\n",
       "      <td>2</td>\n",
       "      <td>u</td>\n",
       "      <td>620000.0</td>\n",
       "      <td>S</td>\n",
       "      <td>Jellis</td>\n",
       "      <td>28/05/2016</td>\n",
       "      <td>1.9</td>\n",
       "      <td>3003.0</td>\n",
       "      <td>...</td>\n",
       "      <td>1.0</td>\n",
       "      <td>1.0</td>\n",
       "      <td>0.0</td>\n",
       "      <td>83.0</td>\n",
       "      <td>2002.0</td>\n",
       "      <td>Melbourne</td>\n",
       "      <td>-37.8091</td>\n",
       "      <td>144.9520</td>\n",
       "      <td>Northern Metropolitan</td>\n",
       "      <td>2230.0</td>\n",
       "    </tr>\n",
       "    <tr>\n",
       "      <th>8395</th>\n",
       "      <td>St Kilda</td>\n",
       "      <td>7/29 Marine Pde</td>\n",
       "      <td>3</td>\n",
       "      <td>u</td>\n",
       "      <td>1000000.0</td>\n",
       "      <td>SP</td>\n",
       "      <td>McGrath</td>\n",
       "      <td>22/04/2017</td>\n",
       "      <td>6.1</td>\n",
       "      <td>3182.0</td>\n",
       "      <td>...</td>\n",
       "      <td>1.0</td>\n",
       "      <td>0.0</td>\n",
       "      <td>0.0</td>\n",
       "      <td>115.0</td>\n",
       "      <td>1930.0</td>\n",
       "      <td>Port Phillip</td>\n",
       "      <td>-37.8718</td>\n",
       "      <td>144.9767</td>\n",
       "      <td>Southern Metropolitan</td>\n",
       "      <td>13240.0</td>\n",
       "    </tr>\n",
       "    <tr>\n",
       "      <th>4659</th>\n",
       "      <td>Pascoe Vale</td>\n",
       "      <td>8/16 Pascoe St</td>\n",
       "      <td>3</td>\n",
       "      <td>t</td>\n",
       "      <td>430000.0</td>\n",
       "      <td>VB</td>\n",
       "      <td>Trimson</td>\n",
       "      <td>18/06/2016</td>\n",
       "      <td>9.9</td>\n",
       "      <td>3044.0</td>\n",
       "      <td>...</td>\n",
       "      <td>2.0</td>\n",
       "      <td>1.0</td>\n",
       "      <td>146.0</td>\n",
       "      <td>106.0</td>\n",
       "      <td>2006.0</td>\n",
       "      <td>Moreland</td>\n",
       "      <td>-37.7152</td>\n",
       "      <td>144.9346</td>\n",
       "      <td>Northern Metropolitan</td>\n",
       "      <td>7485.0</td>\n",
       "    </tr>\n",
       "    <tr>\n",
       "      <th>7386</th>\n",
       "      <td>South Kingsville</td>\n",
       "      <td>2/77 Vernon St</td>\n",
       "      <td>2</td>\n",
       "      <td>h</td>\n",
       "      <td>392250.0</td>\n",
       "      <td>SP</td>\n",
       "      <td>Gunn&amp;Co</td>\n",
       "      <td>24/09/2016</td>\n",
       "      <td>9.1</td>\n",
       "      <td>3015.0</td>\n",
       "      <td>...</td>\n",
       "      <td>1.0</td>\n",
       "      <td>2.0</td>\n",
       "      <td>462.0</td>\n",
       "      <td>NaN</td>\n",
       "      <td>1970.0</td>\n",
       "      <td>Hobsons Bay</td>\n",
       "      <td>-37.8331</td>\n",
       "      <td>144.8715</td>\n",
       "      <td>Western Metropolitan</td>\n",
       "      <td>984.0</td>\n",
       "    </tr>\n",
       "  </tbody>\n",
       "</table>\n",
       "<p>5 rows × 21 columns</p>\n",
       "</div>"
      ],
      "text/plain": [
       "                Suburb          Address  Rooms Type      Price Method  \\\n",
       "1061          Brighton       1a Mair St      3    h  2600000.0      S   \n",
       "6482    West Melbourne    5/467 King St      2    u   620000.0      S   \n",
       "8395          St Kilda  7/29 Marine Pde      3    u  1000000.0     SP   \n",
       "4659       Pascoe Vale   8/16 Pascoe St      3    t   430000.0     VB   \n",
       "7386  South Kingsville   2/77 Vernon St      2    h   392250.0     SP   \n",
       "\n",
       "      SellerG        Date  Distance  Postcode  ...  Bathroom  Car  Landsize  \\\n",
       "1061   Buxton   6/08/2016      11.2    3186.0  ...       2.0  3.0     588.0   \n",
       "6482   Jellis  28/05/2016       1.9    3003.0  ...       1.0  1.0       0.0   \n",
       "8395  McGrath  22/04/2017       6.1    3182.0  ...       1.0  0.0       0.0   \n",
       "4659  Trimson  18/06/2016       9.9    3044.0  ...       2.0  1.0     146.0   \n",
       "7386  Gunn&Co  24/09/2016       9.1    3015.0  ...       1.0  2.0     462.0   \n",
       "\n",
       "      BuildingArea  YearBuilt   CouncilArea Lattitude  Longtitude  \\\n",
       "1061           NaN        NaN       Bayside  -37.9287    144.9920   \n",
       "6482          83.0     2002.0     Melbourne  -37.8091    144.9520   \n",
       "8395         115.0     1930.0  Port Phillip  -37.8718    144.9767   \n",
       "4659         106.0     2006.0      Moreland  -37.7152    144.9346   \n",
       "7386           NaN     1970.0   Hobsons Bay  -37.8331    144.8715   \n",
       "\n",
       "                 Regionname Propertycount  \n",
       "1061  Southern Metropolitan       10579.0  \n",
       "6482  Northern Metropolitan        2230.0  \n",
       "8395  Southern Metropolitan       13240.0  \n",
       "4659  Northern Metropolitan        7485.0  \n",
       "7386   Western Metropolitan         984.0  \n",
       "\n",
       "[5 rows x 21 columns]"
      ]
     },
     "execution_count": 14,
     "metadata": {},
     "output_type": "execute_result"
    }
   ],
   "source": [
    "validation_data.head()"
   ]
  },
  {
   "cell_type": "markdown",
   "id": "8b255d4e",
   "metadata": {},
   "source": [
    "#### b) Engineer (i.e., create) one new feature, i.e., one feature in addition to the three you used in the previous question."
   ]
  },
  {
   "cell_type": "code",
   "execution_count": 15,
   "id": "907e0cbd",
   "metadata": {},
   "outputs": [],
   "source": [
    "df['TotalLivingSpaces'] = df['Rooms'] + df['Bathroom'] + df['Bedroom2']"
   ]
  },
  {
   "cell_type": "markdown",
   "id": "6bf16835",
   "metadata": {},
   "source": [
    "#### Ans:\n",
    "For this part, I will add a new feature called TotalLivingSpaces which add bathroom, rooms, bedroom2."
   ]
  },
  {
   "cell_type": "markdown",
   "id": "185abdf3",
   "metadata": {},
   "source": [
    "#### c) Using this validation data set and the R2 metric, decide if this new feature improves the model. Explain."
   ]
  },
  {
   "cell_type": "code",
   "execution_count": 16,
   "id": "84277626",
   "metadata": {},
   "outputs": [],
   "source": [
    "## Spliting data\n",
    "df['TotalLivingSpaces'] = df['Rooms'] + df['Bathroom'] + df['Bedroom2']\n",
    "train_data, validation_data = train_test_split(df, test_size=0.1, random_state=42)"
   ]
  },
  {
   "cell_type": "code",
   "execution_count": 17,
   "id": "e378b770",
   "metadata": {},
   "outputs": [],
   "source": [
    "## Training dat\n",
    "X_train = train_data[['Rooms', 'Bathroom', 'TotalLivingSpaces']]\n",
    "y_train = train_data['Price']\n",
    "X_train = sm.add_constant(X_train)\n",
    "model = sm.OLS(y_train, X_train).fit()"
   ]
  },
  {
   "cell_type": "code",
   "execution_count": 18,
   "id": "1c8257f3",
   "metadata": {},
   "outputs": [
    {
     "name": "stdout",
     "output_type": "stream",
     "text": [
      "Adjusted R-squared (R²) for the validation dataset: 0.2916417472162347\n"
     ]
    }
   ],
   "source": [
    "## Validation data\n",
    "X_validation = validation_data[['Rooms', 'Bathroom', 'TotalLivingSpaces']]\n",
    "y_validation = validation_data['Price']\n",
    "X_validation = sm.add_constant(X_validation)\n",
    "r2_validation = model.rsquared_adj\n",
    "print(f\"Adjusted R-squared (R²) for the validation dataset: {r2_validation}\")"
   ]
  },
  {
   "cell_type": "markdown",
   "id": "526debff",
   "metadata": {},
   "source": [
    "#### Ans:\n",
    "The R^2 with this new feature is 0.292 which is slightly lower than previous R^2 0.389.  This indicates that the new feature 'TotalLivingSpaces' does not significantly improve the model's explanatory power for the validation dataset."
   ]
  },
  {
   "cell_type": "markdown",
   "id": "e964c68a",
   "metadata": {},
   "source": [
    "### Section 6"
   ]
  },
  {
   "cell_type": "markdown",
   "id": "98494d3b",
   "metadata": {},
   "source": [
    "#### a) Create a new binary variable called above_median, which indicates whether a house's price is above the median price for houses in the overall set of data."
   ]
  },
  {
   "cell_type": "code",
   "execution_count": 19,
   "id": "adf5855e",
   "metadata": {},
   "outputs": [
    {
     "data": {
      "text/html": [
       "<div>\n",
       "<style scoped>\n",
       "    .dataframe tbody tr th:only-of-type {\n",
       "        vertical-align: middle;\n",
       "    }\n",
       "\n",
       "    .dataframe tbody tr th {\n",
       "        vertical-align: top;\n",
       "    }\n",
       "\n",
       "    .dataframe thead th {\n",
       "        text-align: right;\n",
       "    }\n",
       "</style>\n",
       "<table border=\"1\" class=\"dataframe\">\n",
       "  <thead>\n",
       "    <tr style=\"text-align: right;\">\n",
       "      <th></th>\n",
       "      <th>Suburb</th>\n",
       "      <th>Address</th>\n",
       "      <th>Rooms</th>\n",
       "      <th>Type</th>\n",
       "      <th>Price</th>\n",
       "      <th>Method</th>\n",
       "      <th>SellerG</th>\n",
       "      <th>Date</th>\n",
       "      <th>Distance</th>\n",
       "      <th>Postcode</th>\n",
       "      <th>...</th>\n",
       "      <th>Landsize</th>\n",
       "      <th>BuildingArea</th>\n",
       "      <th>YearBuilt</th>\n",
       "      <th>CouncilArea</th>\n",
       "      <th>Lattitude</th>\n",
       "      <th>Longtitude</th>\n",
       "      <th>Regionname</th>\n",
       "      <th>Propertycount</th>\n",
       "      <th>TotalLivingSpaces</th>\n",
       "      <th>above_median</th>\n",
       "    </tr>\n",
       "  </thead>\n",
       "  <tbody>\n",
       "    <tr>\n",
       "      <th>0</th>\n",
       "      <td>Abbotsford</td>\n",
       "      <td>85 Turner St</td>\n",
       "      <td>2</td>\n",
       "      <td>h</td>\n",
       "      <td>1480000.0</td>\n",
       "      <td>S</td>\n",
       "      <td>Biggin</td>\n",
       "      <td>3/12/2016</td>\n",
       "      <td>2.5</td>\n",
       "      <td>3067.0</td>\n",
       "      <td>...</td>\n",
       "      <td>202.0</td>\n",
       "      <td>NaN</td>\n",
       "      <td>NaN</td>\n",
       "      <td>Yarra</td>\n",
       "      <td>-37.7996</td>\n",
       "      <td>144.9984</td>\n",
       "      <td>Northern Metropolitan</td>\n",
       "      <td>4019.0</td>\n",
       "      <td>5.0</td>\n",
       "      <td>1</td>\n",
       "    </tr>\n",
       "    <tr>\n",
       "      <th>1</th>\n",
       "      <td>Abbotsford</td>\n",
       "      <td>25 Bloomburg St</td>\n",
       "      <td>2</td>\n",
       "      <td>h</td>\n",
       "      <td>1035000.0</td>\n",
       "      <td>S</td>\n",
       "      <td>Biggin</td>\n",
       "      <td>4/02/2016</td>\n",
       "      <td>2.5</td>\n",
       "      <td>3067.0</td>\n",
       "      <td>...</td>\n",
       "      <td>156.0</td>\n",
       "      <td>79.0</td>\n",
       "      <td>1900.0</td>\n",
       "      <td>Yarra</td>\n",
       "      <td>-37.8079</td>\n",
       "      <td>144.9934</td>\n",
       "      <td>Northern Metropolitan</td>\n",
       "      <td>4019.0</td>\n",
       "      <td>5.0</td>\n",
       "      <td>1</td>\n",
       "    </tr>\n",
       "    <tr>\n",
       "      <th>2</th>\n",
       "      <td>Abbotsford</td>\n",
       "      <td>5 Charles St</td>\n",
       "      <td>3</td>\n",
       "      <td>h</td>\n",
       "      <td>1465000.0</td>\n",
       "      <td>SP</td>\n",
       "      <td>Biggin</td>\n",
       "      <td>4/03/2017</td>\n",
       "      <td>2.5</td>\n",
       "      <td>3067.0</td>\n",
       "      <td>...</td>\n",
       "      <td>134.0</td>\n",
       "      <td>150.0</td>\n",
       "      <td>1900.0</td>\n",
       "      <td>Yarra</td>\n",
       "      <td>-37.8093</td>\n",
       "      <td>144.9944</td>\n",
       "      <td>Northern Metropolitan</td>\n",
       "      <td>4019.0</td>\n",
       "      <td>8.0</td>\n",
       "      <td>1</td>\n",
       "    </tr>\n",
       "    <tr>\n",
       "      <th>3</th>\n",
       "      <td>Abbotsford</td>\n",
       "      <td>40 Federation La</td>\n",
       "      <td>3</td>\n",
       "      <td>h</td>\n",
       "      <td>850000.0</td>\n",
       "      <td>PI</td>\n",
       "      <td>Biggin</td>\n",
       "      <td>4/03/2017</td>\n",
       "      <td>2.5</td>\n",
       "      <td>3067.0</td>\n",
       "      <td>...</td>\n",
       "      <td>94.0</td>\n",
       "      <td>NaN</td>\n",
       "      <td>NaN</td>\n",
       "      <td>Yarra</td>\n",
       "      <td>-37.7969</td>\n",
       "      <td>144.9969</td>\n",
       "      <td>Northern Metropolitan</td>\n",
       "      <td>4019.0</td>\n",
       "      <td>8.0</td>\n",
       "      <td>0</td>\n",
       "    </tr>\n",
       "    <tr>\n",
       "      <th>4</th>\n",
       "      <td>Abbotsford</td>\n",
       "      <td>55a Park St</td>\n",
       "      <td>4</td>\n",
       "      <td>h</td>\n",
       "      <td>1600000.0</td>\n",
       "      <td>VB</td>\n",
       "      <td>Nelson</td>\n",
       "      <td>4/06/2016</td>\n",
       "      <td>2.5</td>\n",
       "      <td>3067.0</td>\n",
       "      <td>...</td>\n",
       "      <td>120.0</td>\n",
       "      <td>142.0</td>\n",
       "      <td>2014.0</td>\n",
       "      <td>Yarra</td>\n",
       "      <td>-37.8072</td>\n",
       "      <td>144.9941</td>\n",
       "      <td>Northern Metropolitan</td>\n",
       "      <td>4019.0</td>\n",
       "      <td>8.0</td>\n",
       "      <td>1</td>\n",
       "    </tr>\n",
       "  </tbody>\n",
       "</table>\n",
       "<p>5 rows × 23 columns</p>\n",
       "</div>"
      ],
      "text/plain": [
       "       Suburb           Address  Rooms Type      Price Method SellerG  \\\n",
       "0  Abbotsford      85 Turner St      2    h  1480000.0      S  Biggin   \n",
       "1  Abbotsford   25 Bloomburg St      2    h  1035000.0      S  Biggin   \n",
       "2  Abbotsford      5 Charles St      3    h  1465000.0     SP  Biggin   \n",
       "3  Abbotsford  40 Federation La      3    h   850000.0     PI  Biggin   \n",
       "4  Abbotsford       55a Park St      4    h  1600000.0     VB  Nelson   \n",
       "\n",
       "        Date  Distance  Postcode  ...  Landsize  BuildingArea  YearBuilt  \\\n",
       "0  3/12/2016       2.5    3067.0  ...     202.0           NaN        NaN   \n",
       "1  4/02/2016       2.5    3067.0  ...     156.0          79.0     1900.0   \n",
       "2  4/03/2017       2.5    3067.0  ...     134.0         150.0     1900.0   \n",
       "3  4/03/2017       2.5    3067.0  ...      94.0           NaN        NaN   \n",
       "4  4/06/2016       2.5    3067.0  ...     120.0         142.0     2014.0   \n",
       "\n",
       "   CouncilArea  Lattitude  Longtitude             Regionname  Propertycount  \\\n",
       "0        Yarra   -37.7996    144.9984  Northern Metropolitan         4019.0   \n",
       "1        Yarra   -37.8079    144.9934  Northern Metropolitan         4019.0   \n",
       "2        Yarra   -37.8093    144.9944  Northern Metropolitan         4019.0   \n",
       "3        Yarra   -37.7969    144.9969  Northern Metropolitan         4019.0   \n",
       "4        Yarra   -37.8072    144.9941  Northern Metropolitan         4019.0   \n",
       "\n",
       "   TotalLivingSpaces above_median  \n",
       "0                5.0            1  \n",
       "1                5.0            1  \n",
       "2                8.0            1  \n",
       "3                8.0            0  \n",
       "4                8.0            1  \n",
       "\n",
       "[5 rows x 23 columns]"
      ]
     },
     "execution_count": 19,
     "metadata": {},
     "output_type": "execute_result"
    }
   ],
   "source": [
    "median_price = df['Price'].median()\n",
    "df['above_median'] = df['Price'] > median_price\n",
    "df['above_median'] = df['above_median'].astype(int)\n",
    "df.head()"
   ]
  },
  {
   "cell_type": "markdown",
   "id": "68484032",
   "metadata": {},
   "source": [
    "#### b) Use the model you developed for question #5, as well as the same split of the overall data set into testing and training data sets. How accurate is this model at predicting above_median on the training data set?"
   ]
  },
  {
   "cell_type": "code",
   "execution_count": 20,
   "id": "20e088e9",
   "metadata": {},
   "outputs": [
    {
     "name": "stdout",
     "output_type": "stream",
     "text": [
      "Accuracy of the model at predicting above_median on the training dataset: 0.6620847651775487\n"
     ]
    }
   ],
   "source": [
    "train_data, test_data = train_test_split(df, test_size=0.1, random_state=42)\n",
    "X_train = train_data[['Rooms', 'Bathroom', 'TotalLivingSpaces']]\n",
    "y_train = train_data['Price']\n",
    "X_train = sm.add_constant(X_train)\n",
    "model = sm.OLS(y_train, X_train).fit()\n",
    "\n",
    "price_predictions_train = model.predict(X_train)\n",
    "binary_predictions_train = (price_predictions_train > median_price).astype(int)\n",
    "accuracy_train = np.mean(binary_predictions_train == train_data['above_median'])\n",
    "\n",
    "print(f\"Accuracy of the model at predicting above_median on the training dataset: {accuracy_train}\")"
   ]
  },
  {
   "cell_type": "markdown",
   "id": "ef409334",
   "metadata": {},
   "source": [
    "#### Ans:\n",
    "The accuracy at predicting above_median on the training dataset is 0.6621"
   ]
  },
  {
   "cell_type": "markdown",
   "id": "74a1e116",
   "metadata": {},
   "source": [
    "#### c) Fit a logistic regression model using the same set of training data (i.e., with the same independent variables, and targeted at above_median as the dependent variable). How accurate is this model at predicting above_median on the training data set?"
   ]
  },
  {
   "cell_type": "code",
   "execution_count": 21,
   "id": "bfb8750d",
   "metadata": {},
   "outputs": [
    {
     "name": "stdout",
     "output_type": "stream",
     "text": [
      "Optimization terminated successfully.\n",
      "         Current function value: 0.589114\n",
      "         Iterations 6\n",
      "Accuracy of the logistic regression model at predicting above_median on the training dataset: 0.6791850760922926\n"
     ]
    }
   ],
   "source": [
    "train_data, test_data = train_test_split(df, test_size=0.1, random_state=42)\n",
    "\n",
    "X_train = train_data[['Rooms', 'Bathroom', 'TotalLivingSpaces']]\n",
    "y_train = train_data['above_median']\n",
    "X_train = sm.add_constant(X_train)\n",
    "\n",
    "logit_model = sm.Logit(y_train, X_train).fit()\n",
    "probability_predictions_train = logit_model.predict(X_train)\n",
    "binary_predictions_train = (probability_predictions_train > 0.5).astype(int)\n",
    "accuracy_train = np.mean(binary_predictions_train == train_data['above_median'])\n",
    "\n",
    "print(f\"Accuracy of the logistic regression model at predicting above_median on the training dataset: {accuracy_train}\")"
   ]
  },
  {
   "cell_type": "markdown",
   "id": "d2fe7af6",
   "metadata": {},
   "source": [
    "#### Ans:\n",
    "The accuracy of 0.6792 on the training dataset means that the logistic regression model correctly predicts whether a house's price is above the median price about 67.92% of the time which means that it correctly classifies about 67.92% of the houses as having prices above or below the median price.\n",
    "\n",
    "The logistic regression model generates probability predictions for each observation in the dataset. These probabilities represent the estimated likelihood that a house's price is above the median price.\n",
    "I apply a threshold to these probability predictions to convert them into binary predictions. In this case, I used a threshold of 0.5.\n",
    "If the predicted probability for a given observation is greater than the threshold (0.5), then assign a value of 1 to the binary prediction, indicating that the model predicts the house's price to be above the median price. If the predicted probability is less than or equal to the threshold, then assign a value of 0 to the binary prediction, indicating that the model predicts the house's price to be below or equal to the median price. Finally, calculate the accuracy by comparing the binary predictions to the actual above_median values in the training dataset. The accuracy is the proportion of correct predictions out of the total number of predictions."
   ]
  },
  {
   "cell_type": "markdown",
   "id": "723b704e",
   "metadata": {},
   "source": [
    "### Section 7"
   ]
  },
  {
   "cell_type": "code",
   "execution_count": 27,
   "id": "111814c8",
   "metadata": {},
   "outputs": [
    {
     "name": "stdout",
     "output_type": "stream",
     "text": [
      "\n",
      "Missing values after imputation:\n",
      "Suburb                  0\n",
      "Address                 0\n",
      "Rooms                   0\n",
      "Type                    0\n",
      "Price                   0\n",
      "Method                  0\n",
      "SellerG                 0\n",
      "Date                    0\n",
      "Distance                0\n",
      "Postcode                0\n",
      "Bedroom2                0\n",
      "Bathroom                0\n",
      "Car                     0\n",
      "Landsize                0\n",
      "BuildingArea            0\n",
      "YearBuilt               0\n",
      "CouncilArea          1369\n",
      "Lattitude               0\n",
      "Longtitude              0\n",
      "Regionname              0\n",
      "Propertycount           0\n",
      "TotalLivingSpaces       0\n",
      "above_median            0\n",
      "dtype: int64\n"
     ]
    }
   ],
   "source": [
    "\n",
    "# Eliminate nans\n",
    " # Fill missing values in Car, BuildingArea, and YearBuilt columns with their median values\n",
    "df['Car'] = df['Car'].fillna(df['Car'].median())\n",
    "df['BuildingArea'] = df['BuildingArea'].fillna(df['BuildingArea'].median())\n",
    "df['YearBuilt'] = df['YearBuilt'].fillna(df['YearBuilt'].median())\n",
    "\n",
    "print(\"\\nMissing values after imputation:\")\n",
    "print(df.isnull().sum())"
   ]
  },
  {
   "cell_type": "markdown",
   "id": "048cf77c",
   "metadata": {},
   "source": [
    "## RIDGE"
   ]
  },
  {
   "cell_type": "code",
   "execution_count": 25,
   "id": "f613d9ee",
   "metadata": {},
   "outputs": [
    {
     "name": "stdout",
     "output_type": "stream",
     "text": [
      "Best α (alpha) parameter for the Ridge Regression model: 1456.3484775012444\n",
      "R² of the Ridge Regression model on the validation dataset: 0.6331\n"
     ]
    }
   ],
   "source": [
    "from sklearn.linear_model import Ridge\n",
    "\n",
    "# Select all numerical columns, excluding 'Price'\n",
    "numerical_columns = df.select_dtypes(include=[np.number]).drop(columns=['Price']).columns\n",
    "\n",
    "# Prepare the independent (X) and dependent (y) variables\n",
    "X = df[numerical_columns]\n",
    "y = df['Price']\n",
    "\n",
    "# Split the dataset into training and validation sets\n",
    "X_train, X_val, y_train, y_val = train_test_split(X, y, test_size=0.1, random_state=42)\n",
    "\n",
    "# Standardize the independent variables\n",
    "scaler = StandardScaler()\n",
    "X_train_scaled = scaler.fit_transform(X_train)\n",
    "X_val_scaled = scaler.transform(X_val)\n",
    "\n",
    "# Define the Ridge Regression model with hyperparameter tuning using GridSearchCV\n",
    "ridge = Ridge()\n",
    "params = {'alpha': np.logspace(-5, 5, 50)}  # Define a range of α values to search\n",
    "grid = GridSearchCV(ridge, param_grid=params, cv=5, scoring='r2', n_jobs=-1)\n",
    "grid.fit(X_train_scaled, y_train)\n",
    "\n",
    "# Get the best α parameter\n",
    "best_alpha = grid.best_params_['alpha']\n",
    "print(f\"Best α (alpha) parameter for the Ridge Regression model: {best_alpha}\")\n",
    "\n",
    "# Get the R² on the validation dataset\n",
    "ridge_best = grid.best_estimator_\n",
    "y_val_pred = ridge_best.predict(X_val_scaled)\n",
    "r2_val = r2_score(y_val, y_val_pred)\n",
    "print(f\"R² of the Ridge Regression model on the validation dataset: {r2_val:.4f}\")"
   ]
  },
  {
   "cell_type": "markdown",
   "id": "fe975e04",
   "metadata": {},
   "source": [
    "#### Ans:\n",
    "The Ridge Regression model is an extension of linear regression that includes a regularization term, which helps prevent overfitting and reduces the complexity of the model. The α parameter controls the strength of the regularization. Larger values of α result in stronger regularization and simpler models, while smaller values of α result in weaker regularization and more complex models.\n",
    "\n",
    "In this script, we perform hyperparameter tuning by searching over a range of α values using GridSearchCV, a method from the sklearn library that performs an exhaustive search over specified parameter values for an estimator. It uses cross-validation to find the best α parameter that maximizes the R² score. After finding the best α value, we fit the Ridge Regression model with the selected α and report the R² on the validation dataset.\n",
    "\n",
    "Here are the steps to define α:\n",
    "\n",
    "1) Define a range of α values: Create a range of α values using np.logspace(-5, 5, 50). This generates an array of 50 values evenly spaced on a logarithmic scale between 10⁻⁵ and 10⁵.\n",
    "\n",
    "2) Instantiate the Ridge Regression model and GridSearchCV: Create an instance of the Ridge Regression model from sklearn.linear_model. Then, instantiate GridSearchCV with the Ridge model, the range of α values (params), a 5-fold cross-validator (cv=5), the scoring metric ('r2'), and n_jobs=-1 to use all available cores of the processor for faster computation.\n",
    "\n",
    "3) Fit GridSearchCV to the training data: Fit the GridSearchCV instance to the scaled training data (X_train_scaled and y_train). This process involves training a separate Ridge Regression model for each α value in the search space and evaluating its performance using 5-fold cross-validation. The average R² score is computed for each α value.\n",
    "\n",
    "4) Retrieve the best α parameter: After fitting GridSearchCV to the data, access the best_params_ attribute to get the best α value, which corresponds to the highest average R² score across the cross-validation folds.\n",
    "\n",
    "The best α parameter found for the Ridge Regression model is 1456.348. The α parameter in Ridge Regression controls the strength of the regularization effect. A higher value of α results in stronger regularization and a more stable model that is less likely to overfit the training data. Ridge Regression adds an L2 penalty term to the linear regression, which encourages the model to have smaller coefficients for less important features but does not push them to zero.\n",
    "\n",
    "The R² value of 0.6331 represents the proportion of the variance in the dependent variable (Price) that is predictable from the independent variables. An R² value of 0.6331 suggests that the Ridge Regression model can explain approximately 63.31% of the variation in housing prices based on the given features in the validation dataset. This value indicates that the model has a relatively moderate fit on the validation data, similar to the LASSO Regression model. I also do a LASSO and I got R² is 0.6367. The difference in R² values between the LASSO and Ridge Regression models (0.6367 and 0.6331, respectively) is relatively small. In this case, may choose either model, depending on your preferences or specific requirements. LASSO tends to produce sparser models, while Ridge Regression results in models with smaller but non-zero coefficients for less important features."
   ]
  }
 ],
 "metadata": {
  "kernelspec": {
   "display_name": "Python 3 (ipykernel)",
   "language": "python",
   "name": "python3"
  },
  "language_info": {
   "codemirror_mode": {
    "name": "ipython",
    "version": 3
   },
   "file_extension": ".py",
   "mimetype": "text/x-python",
   "name": "python",
   "nbconvert_exporter": "python",
   "pygments_lexer": "ipython3",
   "version": "3.9.13"
  }
 },
 "nbformat": 4,
 "nbformat_minor": 5
}
